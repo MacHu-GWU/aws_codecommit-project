{
 "cells": [
  {
   "cell_type": "markdown",
   "source": [
    "# CodeCommit Notification Event Parser\n",
    "\n",
    "``aws_codecommit`` provides an objective oriented programming model to parse the AWS CodeCommit Notification Event, allow you to create a custom CI/CD workflow easily.\n",
    "\n",
    "For example, you can use a AWS Lambda Function to analyze the notification event, and use custom if/else logic to decide what to do.\n",
    "\n",
    "``aws_codecommit`` provides lots of user-friendly attributes to access the metadata of this noticiation event. Below is the full list. All the attributes start with ``is_`` will return a boolean value:\n",
    "\n",
    "- ``event_type``\n",
    "- ``event_description``\n",
    "- ``is_commit_to_branch_event``\n",
    "- ``is_commit_to_branch_from_merge_event``\n",
    "- ``is_commit_event``\n",
    "- ``is_create_branch_event``\n",
    "- ``is_delete_branch_event``\n",
    "- ``is_pr_created_event``\n",
    "- ``is_pr_closed_event``\n",
    "- ``is_pr_update_event``\n",
    "- ``is_pr_merged_event``\n",
    "- ``is_comment_on_pr_created_event``\n",
    "- ``is_comment_on_pr_updated_event``\n",
    "- ``is_reply_to_comment_event``\n",
    "- ``is_comment_event``\n",
    "- ``is_approve_pr_event``\n",
    "- ``is_approve_rule_override_event``\n",
    "- ``is_pr_event``\n",
    "- ``is_pr_created_or_updated_event``\n",
    "- ``repo_name``\n",
    "- ``source_branch``\n",
    "- ``source_commit``\n",
    "- ``target_branch``\n",
    "- ``target_commit``\n",
    "- ``source_commit_message``\n",
    "- ``commit_message``\n",
    "- ``source_committer_name``\n",
    "- ``committer_name``\n",
    "- ``pr_id``\n",
    "- ``pr_status``\n",
    "- ``pr_is_open``\n",
    "- ``pr_is_merged``\n",
    "- ``is_pr_from_develop_to_main``\n",
    "- ``is_pr_from_feature_to_main``\n",
    "- ``is_pr_from_hotfix_to_main``\n",
    "- ``source_is_main_branch``\n",
    "- ``source_is_develop_branch``\n",
    "- ``source_is_feature_branch``\n",
    "- ``source_is_build_branch``\n",
    "- ``source_is_doc_branch``\n",
    "- ``source_is_fix_branch``\n",
    "- ``source_is_release_branch``\n",
    "- ``target_is_main_branch``\n",
    "- ``target_is_develop_branch``\n",
    "- ``target_is_feature_branch``\n",
    "- ``target_is_build_branch``\n",
    "- ``target_is_doc_branch``\n",
    "- ``target_is_fix_branch``\n",
    "- ``target_is_release_branch``\n",
    "- ``is_feat_commit``\n",
    "- ``is_fix_commit``\n",
    "- ``is_doc_commit``\n",
    "- ``is_test_commit``\n",
    "- ``is_utest_commit``\n",
    "- ``is_itest_commit``\n",
    "- ``is_ltest_commit``\n",
    "- ``is_build_commit``\n",
    "- ``is_publish_commit``\n",
    "- ``is_release_commit``\n",
    "\n",
    "## Pull Request Created Event Example"
   ],
   "metadata": {
    "collapsed": false,
    "pycharm": {
     "name": "#%% md\n"
    }
   },
   "execution_count": 0
  },
  {
   "cell_type": "code",
   "execution_count": 19,
   "outputs": [],
   "source": [
    "from aws_codecommit import CodeCommitEvent\n",
    "\n",
    "ce = CodeCommitEvent.from_event(\n",
    "    event={\n",
    "        \"account\": \"111122223333\",\n",
    "        \"detailType\": \"CodeCommit Pull Request State Change\",\n",
    "        \"region\": \"us-east-1\",\n",
    "        \"source\": \"aws.codecommit\",\n",
    "        \"time\": \"2022-07-19T04:28:08Z\",\n",
    "        \"notificationRuleArn\": \"arn:aws:codestar-notifications:us-east-1:111122223333:notificationrule/0bcb473a29ad36160baa29e4954acb6c02106840\",\n",
    "        \"detail\": {\n",
    "            \"sourceReference\": \"refs/heads/feat/test-codecommit-event\",\n",
    "            \"lastModifiedDate\": \"Tue Jul 19 04:28:05 UTC 2022\",\n",
    "            \"author\": \"arn:aws:iam::111122223333:user/alice\",\n",
    "            \"isMerged\": \"False\",\n",
    "            \"pullRequestStatus\": \"Open\",\n",
    "            \"notificationBody\": \"A pull request event occurred in the following AWS CodeCommit repository: aws_codecommit-project. User: arn:aws:iam::111122223333:user/alice. Event: Created. Pull request name: 4. Additional information: A pull request was created with the following ID: 4. The title of the pull request is: feat/test-codecommit-event. For more information, go to the AWS CodeCommit console https://us-east-1.console.aws.amazon.com/codesuite/codecommit/repositories/aws_codecommit-project/pull-requests/4?region=us-east-1.\",\n",
    "            \"destinationReference\": \"refs/heads/master\",\n",
    "            \"callerUserArn\": \"arn:aws:iam::111122223333:user/alice\",\n",
    "            \"creationDate\": \"Tue Jul 19 04:28:05 UTC 2022\",\n",
    "            \"pullRequestId\": \"4\",\n",
    "            \"revisionId\": \"fb07cc3978ed660f4517fbc6aff97daade22b246e9df212b2550ba76569acb6f\",\n",
    "            \"title\": \"feat/test-codecommit-event\",\n",
    "            \"repositoryNames\": [\n",
    "                \"aws_codecommit-project\"\n",
    "            ],\n",
    "            \"destinationCommit\": \"3c46a6ebbe1055446e83fb9757ad9c3f2d1d8b4f\",\n",
    "            \"event\": \"pullRequestCreated\",\n",
    "            \"sourceCommit\": \"54948ed28d641a4bc9d67844adc5dcbcbf4cab12\"\n",
    "        },\n",
    "        \"resources\": [\n",
    "            \"arn:aws:codecommit:us-east-1:111122223333:aws_codecommit-project\"\n",
    "        ],\n",
    "        \"additionalAttributes\": {\n",
    "            \"numberOfFilesAdded\": \"0\",\n",
    "            \"numberOfFilesDeleted\": \"0\",\n",
    "            \"numberOfFilesModified\": \"1\",\n",
    "            \"changedFiles\": [\n",
    "                {\n",
    "                    \"changeType\": \"M\",\n",
    "                    \"filePath\": \"README.rst\"\n",
    "                }\n",
    "            ]\n",
    "        }\n",
    "    }\n",
    ")"
   ],
   "metadata": {
    "collapsed": false,
    "pycharm": {
     "name": "#%%\n"
    }
   }
  },
  {
   "cell_type": "code",
   "execution_count": 2,
   "outputs": [
    {
     "data": {
      "text/plain": "'pr_created'"
     },
     "execution_count": 2,
     "metadata": {},
     "output_type": "execute_result"
    }
   ],
   "source": [
    "ce.event_type"
   ],
   "metadata": {
    "collapsed": false,
    "pycharm": {
     "name": "#%%\n"
    }
   }
  },
  {
   "cell_type": "code",
   "execution_count": 3,
   "outputs": [
    {
     "data": {
      "text/plain": "True"
     },
     "execution_count": 3,
     "metadata": {},
     "output_type": "execute_result"
    }
   ],
   "source": [
    "ce.is_pr_event"
   ],
   "metadata": {
    "collapsed": false,
    "pycharm": {
     "name": "#%%\n"
    }
   }
  },
  {
   "cell_type": "code",
   "execution_count": 4,
   "outputs": [
    {
     "data": {
      "text/plain": "True"
     },
     "execution_count": 4,
     "metadata": {},
     "output_type": "execute_result"
    }
   ],
   "source": [
    "ce.is_pr_created_event"
   ],
   "metadata": {
    "collapsed": false,
    "pycharm": {
     "name": "#%%\n"
    }
   }
  },
  {
   "cell_type": "code",
   "execution_count": 5,
   "outputs": [
    {
     "data": {
      "text/plain": "False"
     },
     "execution_count": 5,
     "metadata": {},
     "output_type": "execute_result"
    }
   ],
   "source": [
    "ce.is_pr_update_event"
   ],
   "metadata": {
    "collapsed": false,
    "pycharm": {
     "name": "#%%\n"
    }
   }
  },
  {
   "cell_type": "code",
   "execution_count": 6,
   "outputs": [
    {
     "data": {
      "text/plain": "False"
     },
     "execution_count": 6,
     "metadata": {},
     "output_type": "execute_result"
    }
   ],
   "source": [
    "ce.is_pr_closed_event"
   ],
   "metadata": {
    "collapsed": false,
    "pycharm": {
     "name": "#%%\n"
    }
   }
  },
  {
   "cell_type": "code",
   "execution_count": 14,
   "outputs": [
    {
     "data": {
      "text/plain": "'4'"
     },
     "execution_count": 14,
     "metadata": {},
     "output_type": "execute_result"
    }
   ],
   "source": [
    "ce.pr_id"
   ],
   "metadata": {
    "collapsed": false,
    "pycharm": {
     "name": "#%%\n"
    }
   }
  },
  {
   "cell_type": "code",
   "execution_count": 18,
   "outputs": [
    {
     "data": {
      "text/plain": "'Open'"
     },
     "execution_count": 18,
     "metadata": {},
     "output_type": "execute_result"
    }
   ],
   "source": [
    "ce.pr_status"
   ],
   "metadata": {
    "collapsed": false,
    "pycharm": {
     "name": "#%%\n"
    }
   }
  },
  {
   "cell_type": "code",
   "execution_count": 15,
   "outputs": [
    {
     "data": {
      "text/plain": "True"
     },
     "execution_count": 15,
     "metadata": {},
     "output_type": "execute_result"
    }
   ],
   "source": [
    "ce.pr_is_open"
   ],
   "metadata": {
    "collapsed": false,
    "pycharm": {
     "name": "#%%\n"
    }
   }
  },
  {
   "cell_type": "code",
   "execution_count": 17,
   "outputs": [
    {
     "data": {
      "text/plain": "False"
     },
     "execution_count": 17,
     "metadata": {},
     "output_type": "execute_result"
    }
   ],
   "source": [
    "ce.pr_is_merged"
   ],
   "metadata": {
    "collapsed": false,
    "pycharm": {
     "name": "#%%\n"
    }
   }
  },
  {
   "cell_type": "code",
   "execution_count": 9,
   "outputs": [
    {
     "data": {
      "text/plain": "'aws_codecommit-project'"
     },
     "execution_count": 9,
     "metadata": {},
     "output_type": "execute_result"
    }
   ],
   "source": [
    "ce.repo_name"
   ],
   "metadata": {
    "collapsed": false,
    "pycharm": {
     "name": "#%%\n"
    }
   }
  },
  {
   "cell_type": "code",
   "execution_count": 10,
   "outputs": [
    {
     "data": {
      "text/plain": "'feat/test-codecommit-event'"
     },
     "execution_count": 10,
     "metadata": {},
     "output_type": "execute_result"
    }
   ],
   "source": [
    "ce.source_branch"
   ],
   "metadata": {
    "collapsed": false,
    "pycharm": {
     "name": "#%%\n"
    }
   }
  },
  {
   "cell_type": "code",
   "execution_count": 11,
   "outputs": [
    {
     "data": {
      "text/plain": "'master'"
     },
     "execution_count": 11,
     "metadata": {},
     "output_type": "execute_result"
    }
   ],
   "source": [
    "ce.target_branch"
   ],
   "metadata": {
    "collapsed": false,
    "pycharm": {
     "name": "#%%\n"
    }
   }
  },
  {
   "cell_type": "code",
   "execution_count": 12,
   "outputs": [
    {
     "data": {
      "text/plain": "'54948ed28d641a4bc9d67844adc5dcbcbf4cab12'"
     },
     "execution_count": 12,
     "metadata": {},
     "output_type": "execute_result"
    }
   ],
   "source": [
    "ce.source_commit"
   ],
   "metadata": {
    "collapsed": false,
    "pycharm": {
     "name": "#%%\n"
    }
   }
  },
  {
   "cell_type": "code",
   "execution_count": 13,
   "outputs": [
    {
     "data": {
      "text/plain": "'3c46a6ebbe1055446e83fb9757ad9c3f2d1d8b4f'"
     },
     "execution_count": 13,
     "metadata": {},
     "output_type": "execute_result"
    }
   ],
   "source": [
    "ce.target_commit"
   ],
   "metadata": {
    "collapsed": false,
    "pycharm": {
     "name": "#%%\n"
    }
   }
  }
 ],
 "metadata": {
  "kernelspec": {
   "display_name": "Python 3",
   "language": "python",
   "name": "python3"
  },
  "language_info": {
   "codemirror_mode": {
    "name": "ipython",
    "version": 2
   },
   "file_extension": ".py",
   "mimetype": "text/x-python",
   "name": "python",
   "nbconvert_exporter": "python",
   "pygments_lexer": "ipython2",
   "version": "2.7.6"
  }
 },
 "nbformat": 4,
 "nbformat_minor": 0
}